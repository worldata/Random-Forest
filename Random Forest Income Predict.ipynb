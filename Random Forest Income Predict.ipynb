{
 "cells": [
  {
   "cell_type": "code",
   "execution_count": 1,
   "id": "3e2bf09f",
   "metadata": {},
   "outputs": [
    {
     "name": "stderr",
     "output_type": "stream",
     "text": [
      "C:\\Users\\Max\\AppData\\Local\\Temp/ipykernel_9832/3890896926.py:4: ParserWarning: Falling back to the 'python' engine because the 'c' engine does not support regex separators (separators > 1 char and different from '\\s+' are interpreted as regex); you can avoid this warning by specifying engine='python'.\n",
      "  income_data = pd.read_csv(\"income.csv\", header=0, delimiter=\", \")\n"
     ]
    },
    {
     "data": {
      "text/plain": [
       "age                               40\n",
       "workclass                    Private\n",
       "fnlwgt                        154374\n",
       "education                    HS-grad\n",
       "education-num                      9\n",
       "marital-status    Married-civ-spouse\n",
       "occupation         Machine-op-inspct\n",
       "relationship                 Husband\n",
       "race                           White\n",
       "sex                             Male\n",
       "capital-gain                       0\n",
       "capital-loss                       0\n",
       "hours-per-week                    40\n",
       "native-country         United-States\n",
       "income                          >50K\n",
       "Name: 32557, dtype: object"
      ]
     },
     "execution_count": 1,
     "metadata": {},
     "output_type": "execute_result"
    }
   ],
   "source": [
    "# Random Forest\n",
    "import pandas as pd\n",
    "\n",
    "income_data = pd.read_csv(\"income.csv\", header=0, delimiter=\", \")\n",
    "\n",
    "income_data.iloc[32557]"
   ]
  },
  {
   "cell_type": "code",
   "execution_count": 7,
   "id": "1e68fdcb",
   "metadata": {},
   "outputs": [
    {
     "data": {
      "text/plain": [
       "0        <=50K\n",
       "1        <=50K\n",
       "2        <=50K\n",
       "3        <=50K\n",
       "4        <=50K\n",
       "         ...  \n",
       "32556    <=50K\n",
       "32557     >50K\n",
       "32558    <=50K\n",
       "32559    <=50K\n",
       "32560     >50K\n",
       "Name: income, Length: 32561, dtype: object"
      ]
     },
     "execution_count": 7,
     "metadata": {},
     "output_type": "execute_result"
    }
   ],
   "source": [
    "labels = income_data.income\n",
    "labels\n"
   ]
  },
  {
   "cell_type": "code",
   "execution_count": 13,
   "id": "4cf6706f",
   "metadata": {},
   "outputs": [
    {
     "name": "stderr",
     "output_type": "stream",
     "text": [
      "C:\\Users\\Max\\AppData\\Local\\Temp/ipykernel_8864/211156227.py:4: SettingWithCopyWarning: \n",
      "A value is trying to be set on a copy of a slice from a DataFrame.\n",
      "Try using .loc[row_indexer,col_indexer] = value instead\n",
      "\n",
      "See the caveats in the documentation: https://pandas.pydata.org/pandas-docs/stable/user_guide/indexing.html#returning-a-view-versus-a-copy\n",
      "  inputs[\"sex-int\"] = inputs[\"sex\"].apply(lambda row: 0 if row == \"Male\" else 1)\n"
     ]
    }
   ],
   "source": [
    "inputs = income_data[[\"age\",\"capital-gain\", \"capital-loss\",\"hours-per-week\", \"sex\" ]]\n",
    "\n",
    "#Sex Column in numerica data umwandeln\n",
    "inputs[\"sex-int\"] = inputs[\"sex\"].apply(lambda row: 0 if row == \"Male\" else 1)"
   ]
  },
  {
   "cell_type": "code",
   "execution_count": 14,
   "id": "4afd62ad",
   "metadata": {},
   "outputs": [],
   "source": [
    "from sklearn.model_selection import train_test_split\n",
    "\n",
    "inputsf = inputs[[\"age\",\"capital-gain\", \"capital-loss\",\"hours-per-week\", \"sex-int\" ]]\n",
    "\n",
    "train_data, test_data, train_labels, test_labels =train_test_split(inputsf,labels,random_state=1)"
   ]
  },
  {
   "cell_type": "code",
   "execution_count": 15,
   "id": "ad768f34",
   "metadata": {},
   "outputs": [
    {
     "name": "stdout",
     "output_type": "stream",
     "text": [
      "0.8272939442328953\n",
      "0.854013104013104\n"
     ]
    }
   ],
   "source": [
    "from sklearn import tree\n",
    "from sklearn.ensemble import RandomForestClassifier\n",
    "\n",
    "forest = RandomForestClassifier(random_state = 1)\n",
    "forest.fit(train_data,train_labels)\n",
    "\n",
    "\n",
    "print(forest.score(test_data,test_labels))\n",
    "print(forest.score(train_data,train_labels))"
   ]
  },
  {
   "cell_type": "code",
   "execution_count": 16,
   "id": "d9ae79ab",
   "metadata": {},
   "outputs": [
    {
     "name": "stderr",
     "output_type": "stream",
     "text": [
      "C:\\Users\\Max\\AppData\\Local\\Packages\\PythonSoftwareFoundation.Python.3.9_qbz5n2kfra8p0\\LocalCache\\local-packages\\Python39\\site-packages\\sklearn\\base.py:450: UserWarning: X does not have valid feature names, but RandomForestClassifier was fitted with feature names\n",
      "  warnings.warn(\n"
     ]
    },
    {
     "data": {
      "text/plain": [
       "array(['<=50K'], dtype=object)"
      ]
     },
     "execution_count": 16,
     "metadata": {},
     "output_type": "execute_result"
    }
   ],
   "source": [
    "forest.predict([[40,0,0,40,0]])"
   ]
  },
  {
   "cell_type": "code",
   "execution_count": null,
   "id": "ce72d4c9",
   "metadata": {},
   "outputs": [],
   "source": []
  }
 ],
 "metadata": {
  "kernelspec": {
   "display_name": "Python 3 (ipykernel)",
   "language": "python",
   "name": "python3"
  },
  "language_info": {
   "codemirror_mode": {
    "name": "ipython",
    "version": 3
   },
   "file_extension": ".py",
   "mimetype": "text/x-python",
   "name": "python",
   "nbconvert_exporter": "python",
   "pygments_lexer": "ipython3",
   "version": "3.9.10"
  }
 },
 "nbformat": 4,
 "nbformat_minor": 5
}
